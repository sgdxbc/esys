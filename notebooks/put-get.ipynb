{
 "cells": [
  {
   "cell_type": "code",
   "execution_count": null,
   "metadata": {},
   "outputs": [],
   "source": [
    "%config InlineBackend.figure_formats = ['svg']\n",
    "import pandas as pd\n",
    "import seaborn as sns\n",
    "from glob import glob\n",
    "sns.set_theme(style=\"ticks\", font=\"Linux Biolinum O\", font_scale=1.2)\n",
    "\n",
    "frames = [pd.read_csv(data) for data in glob('../put-get_*.csv')]\n",
    "data = pd.concat(frames, ignore_index=True)\n",
    "\n",
    "data"
   ]
  },
  {
   "cell_type": "code",
   "execution_count": null,
   "metadata": {},
   "outputs": [],
   "source": [
    "palette = sns.color_palette('flare', n_colors=5)\n",
    "sns.relplot(data=data, \n",
    "    kind=\"line\",\n",
    "    x=\"object_count\", y=\"repair\", hue=\"Protocol\", \n",
    "    hue_order=[\"Entropy-0\", \"Entropy-6\", \"Entropy-12\", \"Entropy-24\", \"Entropy-48\", \"Kademlia\"],\n",
    "    marker=\"o\", palette=[*palette, 'gray'],\n",
    "    height=2.56, aspect=2.) \\\n",
    ".set_xlabels(\"Object\") \\\n",
    ".set_ylabels(\"Repair Traffic (object size)\", fontdict={\"size\": \"small\"}) \\\n",
    ".set(xscale=\"log\", yscale=\"log\")"
   ]
  }
 ],
 "metadata": {
  "kernelspec": {
   "display_name": "Python 3",
   "language": "python",
   "name": "python3"
  },
  "language_info": {
   "codemirror_mode": {
    "name": "ipython",
    "version": 3
   },
   "file_extension": ".py",
   "mimetype": "text/x-python",
   "name": "python",
   "nbconvert_exporter": "python",
   "pygments_lexer": "ipython3",
   "version": "3.10.6"
  },
  "orig_nbformat": 4
 },
 "nbformat": 4,
 "nbformat_minor": 2
}
